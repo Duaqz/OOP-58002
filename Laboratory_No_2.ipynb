{
  "nbformat": 4,
  "nbformat_minor": 0,
  "metadata": {
    "colab": {
      "provenance": [],
      "authorship_tag": "ABX9TyMvRpu55BTMGaFnJ7zQbS7V",
      "include_colab_link": true
    },
    "kernelspec": {
      "name": "python3",
      "display_name": "Python 3"
    },
    "language_info": {
      "name": "python"
    }
  },
  "cells": [
    {
      "cell_type": "markdown",
      "metadata": {
        "id": "view-in-github",
        "colab_type": "text"
      },
      "source": [
        "<a href=\"https://colab.research.google.com/github/Elija-Daquiz/OOP-58002/blob/main/Laboratory_No_2.ipynb\" target=\"_parent\"><img src=\"https://colab.research.google.com/assets/colab-badge.svg\" alt=\"Open In Colab\"/></a>"
      ]
    },
    {
      "cell_type": "code",
      "source": [
        "class shape:\n",
        "  def __init__(ob, pi, rad):\n",
        "    ob.pi = pi\n",
        "    ob.rad = rad\n",
        "  def a(ob):\n",
        "    return ob.pi * ob.rad ** 2\n",
        "  def p(ob):\n",
        "    return 2 * ob.pi * ob.rad\n",
        "  def d(ob):\n",
        "    print(\"Circle area is \", ob.a())\n",
        "    print(\"Cricle circumference is \", ob.p())\n",
        "circle = shape(float(input(\"Enter radius of the circle: \")), 3.14159265359)\n",
        "circle.d()"
      ],
      "metadata": {
        "colab": {
          "base_uri": "https://localhost:8080/"
        },
        "id": "np_A4dq3C4M0",
        "outputId": "dbed72b7-6d5d-413a-91d3-15ab20a00b34"
      },
      "execution_count": 36,
      "outputs": [
        {
          "output_type": "stream",
          "name": "stdout",
          "text": [
            "Enter radius of the circle: 7\n",
            "Circle area is  69.08723080763461\n",
            "Cricle circumference is  43.98229715026\n"
          ]
        }
      ]
    }
  ]
}
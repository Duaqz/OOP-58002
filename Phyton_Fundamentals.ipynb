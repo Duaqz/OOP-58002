{
  "nbformat": 4,
  "nbformat_minor": 0,
  "metadata": {
    "colab": {
      "provenance": [],
      "authorship_tag": "ABX9TyPY/r97dXKGRgvOHzZN4Sdn",
      "include_colab_link": true
    },
    "kernelspec": {
      "name": "python3",
      "display_name": "Python 3"
    },
    "language_info": {
      "name": "python"
    }
  },
  "cells": [
    {
      "cell_type": "markdown",
      "metadata": {
        "id": "view-in-github",
        "colab_type": "text"
      },
      "source": [
        "<a href=\"https://colab.research.google.com/github/Elija-Daquiz/OOP-58002/blob/main/Phyton_Fundamentals.ipynb\" target=\"_parent\"><img src=\"https://colab.research.google.com/assets/colab-badge.svg\" alt=\"Open In Colab\"/></a>"
      ]
    },
    {
      "cell_type": "markdown",
      "source": [
        "Phyton Indentation\n"
      ],
      "metadata": {
        "id": "azpB-Uc-wy4v"
      }
    },
    {
      "cell_type": "code",
      "source": [
        "if 5>2:\n",
        "  print(\"five is greater than two\")"
      ],
      "metadata": {
        "colab": {
          "base_uri": "https://localhost:8080/"
        },
        "id": "rQ6anZ-3xAyO",
        "outputId": "b69c5a7f-34fe-4b47-cc1f-827f9724653b"
      },
      "execution_count": 6,
      "outputs": [
        {
          "output_type": "stream",
          "name": "stdout",
          "text": [
            "five is greater than two\n"
          ]
        }
      ]
    },
    {
      "cell_type": "markdown",
      "source": [
        "Phyton Comment"
      ],
      "metadata": {
        "id": "ciehHbqxx3Dg"
      }
    },
    {
      "cell_type": "code",
      "source": [
        "#This is a comment\n",
        "print(\"Hello World\")"
      ],
      "metadata": {
        "colab": {
          "base_uri": "https://localhost:8080/"
        },
        "id": "Gsm4UWVVx5Nn",
        "outputId": "e8926b43-7d9f-458a-875f-886dd9299b16"
      },
      "execution_count": 7,
      "outputs": [
        {
          "output_type": "stream",
          "name": "stdout",
          "text": [
            "Hello World\n"
          ]
        }
      ]
    },
    {
      "cell_type": "markdown",
      "source": [
        "Naming Variable"
      ],
      "metadata": {
        "id": "YuxLqII-yST4"
      }
    },
    {
      "cell_type": "code",
      "source": [
        "#Single Variable with single value\n",
        "x = 1\n",
        "y = 2 \n",
        "print (x)\n",
        "print (y)\n",
        "\n",
        "#Multiple variables with a single value\n",
        "\n",
        "a = b = c = \"Maria\"\n",
        "print (a)\n",
        "print (b)\n",
        "print (c)\n",
        "\n",
        "#Multiple variables with multiple values\n",
        "\n",
        "e, f, g=1,2,3\n",
        "print (e)\n",
        "print (f)\n",
        "print (g)"
      ],
      "metadata": {
        "colab": {
          "base_uri": "https://localhost:8080/"
        },
        "id": "ji8Jk3BryU9X",
        "outputId": "df63055b-8fb2-4acf-aced-a0cd4af67cf5"
      },
      "execution_count": 15,
      "outputs": [
        {
          "output_type": "stream",
          "name": "stdout",
          "text": [
            "1\n",
            "2\n",
            "Maria\n",
            "Maria\n",
            "Maria\n",
            "1\n",
            "2\n",
            "3\n"
          ]
        }
      ]
    },
    {
      "cell_type": "markdown",
      "source": [
        "Single or Double"
      ],
      "metadata": {
        "id": "4GoUDf_S0y7q"
      }
    },
    {
      "cell_type": "code",
      "source": [
        "v = \"Sally\"\n",
        "u = \"Sally\"\n",
        "print (u)\n",
        "print (v)"
      ],
      "metadata": {
        "colab": {
          "base_uri": "https://localhost:8080/"
        },
        "id": "utyBJ4bf05la",
        "outputId": "10c3571b-0575-4eba-fe3b-b85c106f59f0"
      },
      "execution_count": 16,
      "outputs": [
        {
          "output_type": "stream",
          "name": "stdout",
          "text": [
            "Sally\n",
            "Sally\n"
          ]
        }
      ]
    },
    {
      "cell_type": "markdown",
      "source": [
        "Casting"
      ],
      "metadata": {
        "id": "UjeFD7A01FBp"
      }
    },
    {
      "cell_type": "code",
      "source": [
        "p = float(5)\n",
        "p"
      ],
      "metadata": {
        "colab": {
          "base_uri": "https://localhost:8080/"
        },
        "id": "1l28M3OH1OAq",
        "outputId": "15c003d9-5e23-4764-c50e-5999b9387777"
      },
      "execution_count": 18,
      "outputs": [
        {
          "output_type": "execute_result",
          "data": {
            "text/plain": [
              "5.0"
            ]
          },
          "metadata": {},
          "execution_count": 18
        }
      ]
    },
    {
      "cell_type": "markdown",
      "source": [
        "Type() function"
      ],
      "metadata": {
        "id": "telDDcUF1jUD"
      }
    },
    {
      "cell_type": "code",
      "source": [
        "f = \"Ana\"\n",
        "g = 4.56\n",
        "h = 5\n",
        "\n",
        "print(type(f))\n",
        "print(type(g))\n",
        "print(type(h))"
      ],
      "metadata": {
        "colab": {
          "base_uri": "https://localhost:8080/"
        },
        "id": "3CGN1ZV012IC",
        "outputId": "290d29b6-83da-4d05-8dc2-b342448f402c"
      },
      "execution_count": 26,
      "outputs": [
        {
          "output_type": "stream",
          "name": "stdout",
          "text": [
            "<class 'str'>\n",
            "<class 'float'>\n",
            "<class 'int'>\n"
          ]
        }
      ]
    },
    {
      "cell_type": "markdown",
      "source": [
        "Contencation using + symbol"
      ],
      "metadata": {
        "id": "CsJs1eFJ2sL6"
      }
    },
    {
      "cell_type": "code",
      "source": [
        "k = \"enjoying\"\n",
        "j = \"Phyton programming is \"\n",
        "print(\"Python programming is\" +\" \" + k)\n",
        "print(\"Python programming is \" + k)\n",
        "print(j+k)"
      ],
      "metadata": {
        "colab": {
          "base_uri": "https://localhost:8080/"
        },
        "id": "2aNzRCzs3Gol",
        "outputId": "89fdde04-592a-4a10-94ef-b1159a22eab3"
      },
      "execution_count": 32,
      "outputs": [
        {
          "output_type": "stream",
          "name": "stdout",
          "text": [
            "Python programming is enjoying\n",
            "Python programming is enjoying\n",
            "Phyton programming is enjoying\n"
          ]
        }
      ]
    }
  ]
}
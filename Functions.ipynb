{
  "nbformat": 4,
  "nbformat_minor": 0,
  "metadata": {
    "colab": {
      "provenance": [],
      "authorship_tag": "ABX9TyN/NrsuqegVtIyyL0bLTFTX",
      "include_colab_link": true
    },
    "kernelspec": {
      "name": "python3",
      "display_name": "Python 3"
    },
    "language_info": {
      "name": "python"
    }
  },
  "cells": [
    {
      "cell_type": "markdown",
      "metadata": {
        "id": "view-in-github",
        "colab_type": "text"
      },
      "source": [
        "<a href=\"https://colab.research.google.com/github/Elija-Daquiz/OOP-58002/blob/main/Functions.ipynb\" target=\"_parent\"><img src=\"https://colab.research.google.com/assets/colab-badge.svg\" alt=\"Open In Colab\"/></a>"
      ]
    },
    {
      "cell_type": "code",
      "execution_count": null,
      "metadata": {
        "id": "JHe8zMVzzq3Z"
      },
      "outputs": [],
      "source": [
        "def area_shape"
      ]
    },
    {
      "cell_type": "markdown",
      "source": [
        "Double-Click (or Enter) to Edit"
      ],
      "metadata": {
        "id": "J9fRyzsl0c1T"
      }
    },
    {
      "cell_type": "code",
      "source": [
        "class Shape:\n",
        "  def __init__(self, length, width):\n",
        "    self.length  = length\n",
        "    self.width = width\n",
        "\n",
        "  def area_rec(self):\n",
        "   return self.length * self.width\n",
        "rectangle = Shape(10, 5)\n",
        "rectangle.area_rec()\n"
      ],
      "metadata": {
        "colab": {
          "base_uri": "https://localhost:8080/"
        },
        "id": "BMz55nF_0jKy",
        "outputId": "7e40e7c6-f719-42cb-8780-61b905cb6df6"
      },
      "execution_count": 9,
      "outputs": [
        {
          "output_type": "execute_result",
          "data": {
            "text/plain": [
              "50"
            ]
          },
          "metadata": {},
          "execution_count": 9
        }
      ]
    },
    {
      "cell_type": "code",
      "source": [
        "class Person:\n",
        "  def __init__(self, nem, mi, sur):\n",
        "    self.nem  = nem\n",
        "    self.sur = sur\n",
        "    self.mi = mi\n",
        "\n",
        "  def fm(self):\n",
        "   return self.nem + self.mi + self.sur\n",
        "polnem = Person(\"Elija Samuel \", \"N. \", \"Daquiz \")\n",
        "polnem.fm()"
      ],
      "metadata": {
        "colab": {
          "base_uri": "https://localhost:8080/",
          "height": 36
        },
        "id": "Jru94NH74Xbs",
        "outputId": "7283ab64-809e-4bad-f740-8e4359eb919e"
      },
      "execution_count": 21,
      "outputs": [
        {
          "output_type": "execute_result",
          "data": {
            "text/plain": [
              "'Elija Samuel N. Daquiz '"
            ],
            "application/vnd.google.colaboratory.intrinsic+json": {
              "type": "string"
            }
          },
          "metadata": {},
          "execution_count": 21
        }
      ]
    }
  ]
}
{
  "nbformat": 4,
  "nbformat_minor": 0,
  "metadata": {
    "colab": {
      "provenance": [],
      "authorship_tag": "ABX9TyMxKr3kzp+4CNEceqUo+cP4",
      "include_colab_link": true
    },
    "kernelspec": {
      "name": "python3",
      "display_name": "Python 3"
    },
    "language_info": {
      "name": "python"
    }
  },
  "cells": [
    {
      "cell_type": "markdown",
      "metadata": {
        "id": "view-in-github",
        "colab_type": "text"
      },
      "source": [
        "<a href=\"https://colab.research.google.com/github/Elija-Daquiz/OOP-58002/blob/main/Operations_and_Expressions_in_Python.ipynb\" target=\"_parent\"><img src=\"https://colab.research.google.com/assets/colab-badge.svg\" alt=\"Open In Colab\"/></a>"
      ]
    },
    {
      "cell_type": "markdown",
      "source": [
        "Boolean Operators"
      ],
      "metadata": {
        "id": "b-_syxla0sHQ"
      }
    },
    {
      "cell_type": "code",
      "source": [],
      "metadata": {
        "id": "eQ08j-g90zjI"
      },
      "execution_count": null,
      "outputs": []
    },
    {
      "cell_type": "markdown",
      "source": [],
      "metadata": {
        "id": "bJYpCgdQ0pXx"
      }
    },
    {
      "cell_type": "markdown",
      "source": [
        "Bool() Function"
      ],
      "metadata": {
        "id": "lH-FEakC1EEg"
      }
    },
    {
      "cell_type": "code",
      "source": [
        "print (bool(1))\n",
        "print (bool(\"Ana\"))\n",
        "print (bool(0))\n",
        "print (bool(None))\n",
        "print (bool([]))"
      ],
      "metadata": {
        "colab": {
          "base_uri": "https://localhost:8080/"
        },
        "id": "r1FXCfRM1HAI",
        "outputId": "8168f8d7-808a-4177-ab01-4009ef613853"
      },
      "execution_count": 3,
      "outputs": [
        {
          "output_type": "stream",
          "name": "stdout",
          "text": [
            "True\n",
            "True\n",
            "False\n",
            "False\n",
            "False\n"
          ]
        }
      ]
    },
    {
      "cell_type": "markdown",
      "source": [
        "Functions can return Boolean"
      ],
      "metadata": {
        "id": "7oN-IFgg2Mng"
      }
    },
    {
      "cell_type": "code",
      "source": [
        "def myFunction():\n",
        "  return False\n",
        "\n",
        "print (myFunction())\n"
      ],
      "metadata": {
        "colab": {
          "base_uri": "https://localhost:8080/"
        },
        "id": "IqbbQLzO2QNV",
        "outputId": "c5962ab1-483b-4cca-a20f-4c1820bcc04c"
      },
      "execution_count": 5,
      "outputs": [
        {
          "output_type": "stream",
          "name": "stdout",
          "text": [
            "False\n"
          ]
        }
      ]
    },
    {
      "cell_type": "code",
      "source": [
        "def myFunction():\n",
        "  return True\n",
        "if myFunction():\n",
        "  print(\"YES!!\")\n",
        "else:\n",
        "  print(\"NO!!!\")"
      ],
      "metadata": {
        "colab": {
          "base_uri": "https://localhost:8080/"
        },
        "id": "LvK88cF12oYJ",
        "outputId": "71e60edb-6883-4a44-cf2b-01b9c9277a75"
      },
      "execution_count": 8,
      "outputs": [
        {
          "output_type": "stream",
          "name": "stdout",
          "text": [
            "YES!!\n"
          ]
        }
      ]
    },
    {
      "cell_type": "code",
      "source": [
        "print(10%5)\n",
        "print(10//3)\n",
        "print(10**2)"
      ],
      "metadata": {
        "colab": {
          "base_uri": "https://localhost:8080/"
        },
        "id": "RW65IDKe34nB",
        "outputId": "47eb2eeb-5f63-406b-fc63-2d823dd1e424"
      },
      "execution_count": 11,
      "outputs": [
        {
          "output_type": "stream",
          "name": "stdout",
          "text": [
            "0\n",
            "3\n",
            "100\n"
          ]
        }
      ]
    },
    {
      "cell_type": "markdown",
      "source": [
        "Python Operators"
      ],
      "metadata": {
        "id": "djy8Fm1Z4X_R"
      }
    },
    {
      "cell_type": "code",
      "source": [
        "print(10 + 5)\n",
        "print(10 - 5)\n",
        "print(10 * 5)\n",
        "print(10 / 5)\n",
        "print(10 // 5)\n",
        "print(10 % 3)\n",
        "print(10 ** 2)"
      ],
      "metadata": {
        "colab": {
          "base_uri": "https://localhost:8080/"
        },
        "id": "xIQNf4WD4hOx",
        "outputId": "bcc48b8b-1ea4-4822-8465-f0fcf0f3668c"
      },
      "execution_count": 17,
      "outputs": [
        {
          "output_type": "stream",
          "name": "stdout",
          "text": [
            "15\n",
            "5\n",
            "50\n",
            "2.0\n",
            "2\n",
            "1\n",
            "100\n"
          ]
        }
      ]
    },
    {
      "cell_type": "markdown",
      "source": [
        "Python Bitwise Operators"
      ],
      "metadata": {
        "id": "I_Mzjedk54OI"
      }
    },
    {
      "cell_type": "code",
      "source": [
        "a = 60\n",
        "b = 13\n",
        "\n",
        "a<<1"
      ],
      "metadata": {
        "colab": {
          "base_uri": "https://localhost:8080/"
        },
        "id": "nY9WllhY8B4-",
        "outputId": "12b9fbc3-0ad5-4a90-9cc4-828bcd9d185c"
      },
      "execution_count": 22,
      "outputs": [
        {
          "output_type": "execute_result",
          "data": {
            "text/plain": [
              "120"
            ]
          },
          "metadata": {},
          "execution_count": 22
        }
      ]
    },
    {
      "cell_type": "markdown",
      "source": [
        "Python Assignment Operators\n"
      ],
      "metadata": {
        "id": "FW1Ug3bm9-Ws"
      }
    },
    {
      "cell_type": "code",
      "source": [
        "x = 1\n",
        "x += 3 # same as x = x + 3\n",
        "print(x)\n",
        "\n",
        "x = 1\n",
        "x -= 3 \n",
        "print(x)\n",
        "\n",
        "x = 1\n",
        "x *= 3 \n",
        "print(x)\n",
        "\n",
        "x = 1\n",
        "x /= 3 \n",
        "print(x)\n",
        "\n",
        "x = 1\n",
        "x %= 3 \n",
        "print(x)"
      ],
      "metadata": {
        "colab": {
          "base_uri": "https://localhost:8080/"
        },
        "id": "fhUdhfzQ-CXM",
        "outputId": "266ed7c7-a429-4b05-cd20-dee1934c8200"
      },
      "execution_count": 32,
      "outputs": [
        {
          "output_type": "stream",
          "name": "stdout",
          "text": [
            "4\n",
            "-2\n",
            "3\n",
            "0.3333333333333333\n",
            "1\n"
          ]
        }
      ]
    },
    {
      "cell_type": "markdown",
      "source": [
        "Logical Operators\n"
      ],
      "metadata": {
        "id": "1gB6n9g8_2P0"
      }
    },
    {
      "cell_type": "code",
      "source": [
        "x = True\n",
        "y = True"
      ],
      "metadata": {
        "id": "WbFw6ZaQ_4Vr"
      },
      "execution_count": 36,
      "outputs": []
    },
    {
      "cell_type": "code",
      "source": [
        "print(x and y)\n",
        "print(x or y)\n",
        "print(not(x or y))"
      ],
      "metadata": {
        "colab": {
          "base_uri": "https://localhost:8080/"
        },
        "id": "kKS4qtkhAsU8",
        "outputId": "179172ba-b0b6-41ce-ec7d-3297e6c97b78"
      },
      "execution_count": 37,
      "outputs": [
        {
          "output_type": "stream",
          "name": "stdout",
          "text": [
            "True\n",
            "True\n",
            "False\n"
          ]
        }
      ]
    },
    {
      "cell_type": "markdown",
      "source": [
        "Identity Operators"
      ],
      "metadata": {
        "id": "1qHKGP_tBQi7"
      }
    },
    {
      "cell_type": "code",
      "source": [
        "print(x is y)\n",
        "print(x is not y)"
      ],
      "metadata": {
        "colab": {
          "base_uri": "https://localhost:8080/"
        },
        "id": "4SK3JCnjBSX8",
        "outputId": "4a6c2c09-ff66-4ae9-80f8-6e6a6f528cbb"
      },
      "execution_count": 40,
      "outputs": [
        {
          "output_type": "stream",
          "name": "stdout",
          "text": [
            "True\n",
            "False\n"
          ]
        }
      ]
    },
    {
      "cell_type": "code",
      "source": [
        "op = input('+,-,*,/,%:')\n",
        "\n",
        "n1 = int(input('1st number: '))\n",
        "n2 = int(input('2nd number: '))\n",
        "\n",
        "if op == '+':\n",
        "  print(n1+n2)\n",
        "\n",
        "elif op == '-':\n",
        "  print(n1-n2)\n",
        "\n",
        "elif op == '*':\n",
        "  print(n1*n2)\n",
        "\n",
        "elif op == '/':\n",
        "  print(n1/n2)\n",
        "\n",
        "elif op == '%':\n",
        "  print(n1%n2)\n",
        "\n",
        "else:\n",
        "\n",
        "  print('DI KO MASOSOLVE GAMIT-->',op)"
      ],
      "metadata": {
        "colab": {
          "base_uri": "https://localhost:8080/"
        },
        "id": "NEyi7nxEC0Uj",
        "outputId": "3d4e1c32-1871-40b0-d722-a67018b554ac"
      },
      "execution_count": 69,
      "outputs": [
        {
          "output_type": "stream",
          "name": "stdout",
          "text": [
            "+,-,*,/,%: /\n",
            "1st number: 12\n",
            "2nd number: 6\n",
            "2.0\n"
          ]
        }
      ]
    },
    {
      "cell_type": "markdown",
      "source": [
        "Application 1 Create an Arithmetic Calculator (MDAS)\n"
      ],
      "metadata": {
        "id": "ZneF2OokBxx6"
      }
    }
  ]
}
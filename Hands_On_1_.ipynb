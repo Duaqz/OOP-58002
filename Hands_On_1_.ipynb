{
  "nbformat": 4,
  "nbformat_minor": 0,
  "metadata": {
    "colab": {
      "provenance": [],
      "authorship_tag": "ABX9TyOCHx3KHKLSg1itPSmrNTav",
      "include_colab_link": true
    },
    "kernelspec": {
      "name": "python3",
      "display_name": "Python 3"
    },
    "language_info": {
      "name": "python"
    }
  },
  "cells": [
    {
      "cell_type": "markdown",
      "metadata": {
        "id": "view-in-github",
        "colab_type": "text"
      },
      "source": [
        "<a href=\"https://colab.research.google.com/github/Elija-Daquiz/OOP-58002/blob/main/Hands_On_1_.ipynb\" target=\"_parent\"><img src=\"https://colab.research.google.com/assets/colab-badge.svg\" alt=\"Open In Colab\"/></a>"
      ]
    },
    {
      "cell_type": "markdown",
      "source": [
        "1. Create a Python program that displays the\n",
        "students (Student 1, Student 2, Student 3) and the term grade.\n",
        "2. Create a class name Person and attributes - std1, std2, std3, pre, mid, fin\n",
        "3. Compute the average of each term grade using Grade() method\n",
        "4. Information about student's grades must be hidden from others"
      ],
      "metadata": {
        "id": "gtmrH8Xy-Mrj"
      }
    },
    {
      "cell_type": "code",
      "source": [
        "class Person:\n",
        "  def __init__(self, std, pre, mid, fin):\n",
        "    self.__std = std\n",
        "    self.__pre = pre\n",
        "    self.__mid = mid\n",
        "    self.__fin = fin\n",
        "\n",
        "  def grades(self):\n",
        "    return (self.__pre + self.__mid + self.__fin)/3\n",
        "\n",
        "  def display(self):\n",
        "   print(f\"This is {self.__std}\\n \")\n",
        "   print(f\"Prelim Grade: {self.__pre}\\n\")\n",
        "   print(f\"Midterm Grade: {self.__mid}\\n\")\n",
        "   print(f\"Final Grade: {self.__fin}\\n\")\n",
        "   print(f\"Average Grade: {round(self.grades(),2)}\\n\")\n",
        "\n",
        "class std1(Person):\n",
        "  pass\n",
        "\n",
        "class std2(Person):\n",
        "  pass\n",
        "\n",
        "class std3(Person):\n",
        "  pass\n",
        "\n",
        "std1 = std1(\"student 1\", 78, 85, 95)\n",
        "std1.display()\n",
        "\n",
        "std2 = std2(\"student 2\", 80, 79, 91)\n",
        "std2.display()\n",
        "\n",
        "std3 = std3(\"student 3\", 87, 91, 89)\n",
        "std3.display()"
      ],
      "metadata": {
        "colab": {
          "base_uri": "https://localhost:8080/"
        },
        "id": "b2a90kCR_inG",
        "outputId": "7863e673-778f-4695-b33e-fbf164de745f"
      },
      "execution_count": 38,
      "outputs": [
        {
          "output_type": "stream",
          "name": "stdout",
          "text": [
            "This is student 1\n",
            " \n",
            "Prelim Grade: 78\n",
            "\n",
            "Midterm Grade: 85\n",
            "\n",
            "Final Grade: 95\n",
            "\n",
            "Average Grade: 86.0\n",
            "\n",
            "This is student 2\n",
            " \n",
            "Prelim Grade: 80\n",
            "\n",
            "Midterm Grade: 79\n",
            "\n",
            "Final Grade: 91\n",
            "\n",
            "Average Grade: 83.33\n",
            "\n",
            "This is student 3\n",
            " \n",
            "Prelim Grade: 87\n",
            "\n",
            "Midterm Grade: 91\n",
            "\n",
            "Final Grade: 89\n",
            "\n",
            "Average Grade: 89.0\n",
            "\n"
          ]
        }
      ]
    }
  ]
}
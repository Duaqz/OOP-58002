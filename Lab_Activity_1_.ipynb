{
  "nbformat": 4,
  "nbformat_minor": 0,
  "metadata": {
    "colab": {
      "provenance": [],
      "authorship_tag": "ABX9TyOQZor+ecGbfR2IQt+u56Yr",
      "include_colab_link": true
    },
    "kernelspec": {
      "name": "python3",
      "display_name": "Python 3"
    },
    "language_info": {
      "name": "python"
    }
  },
  "cells": [
    {
      "cell_type": "markdown",
      "metadata": {
        "id": "view-in-github",
        "colab_type": "text"
      },
      "source": [
        "<a href=\"https://colab.research.google.com/github/Elija-Daquiz/OOP-58002/blob/main/Lab_Activity_1_.ipynb\" target=\"_parent\"><img src=\"https://colab.research.google.com/assets/colab-badge.svg\" alt=\"Open In Colab\"/></a>"
      ]
    },
    {
      "cell_type": "code",
      "source": [
        "n = 20\n",
        "sum = 0\n",
        "ave = 0\n",
        "tn = n\n",
        "\n",
        "while n>=0:\n",
        "  sum += n\n",
        "  ave = sum/tn\n",
        "  n -= 1\n",
        "  print(\"Sum = \", sum)\n",
        "  print(\"Average = \",ave)\n",
        "  \n",
        "  \n",
        "\n",
        "\n",
        "\n",
        "\n",
        "\n",
        "\n"
      ],
      "metadata": {
        "colab": {
          "base_uri": "https://localhost:8080/"
        },
        "id": "HTF7qpmxsIpa",
        "outputId": "922c872e-9fe9-43de-8d61-9dbb94b1ca53"
      },
      "execution_count": 14,
      "outputs": [
        {
          "output_type": "stream",
          "name": "stdout",
          "text": [
            "Sum =  20\n",
            "Average =  1.0\n",
            "Sum =  39\n",
            "Average =  1.95\n",
            "Sum =  57\n",
            "Average =  2.85\n",
            "Sum =  74\n",
            "Average =  3.7\n",
            "Sum =  90\n",
            "Average =  4.5\n",
            "Sum =  105\n",
            "Average =  5.25\n",
            "Sum =  119\n",
            "Average =  5.95\n",
            "Sum =  132\n",
            "Average =  6.6\n",
            "Sum =  144\n",
            "Average =  7.2\n",
            "Sum =  155\n",
            "Average =  7.75\n",
            "Sum =  165\n",
            "Average =  8.25\n",
            "Sum =  174\n",
            "Average =  8.7\n",
            "Sum =  182\n",
            "Average =  9.1\n",
            "Sum =  189\n",
            "Average =  9.45\n",
            "Sum =  195\n",
            "Average =  9.75\n",
            "Sum =  200\n",
            "Average =  10.0\n",
            "Sum =  204\n",
            "Average =  10.2\n",
            "Sum =  207\n",
            "Average =  10.35\n",
            "Sum =  209\n",
            "Average =  10.45\n",
            "Sum =  210\n",
            "Average =  10.5\n",
            "Sum =  210\n",
            "Average =  10.5\n"
          ]
        }
      ]
    }
  ]
}
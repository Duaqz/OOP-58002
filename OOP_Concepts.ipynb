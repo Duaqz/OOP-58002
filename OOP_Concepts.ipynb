{
  "nbformat": 4,
  "nbformat_minor": 0,
  "metadata": {
    "colab": {
      "provenance": [],
      "authorship_tag": "ABX9TyOTjxLZJfOYTgXg1dYqmfBU",
      "include_colab_link": true
    },
    "kernelspec": {
      "name": "python3",
      "display_name": "Python 3"
    },
    "language_info": {
      "name": "python"
    }
  },
  "cells": [
    {
      "cell_type": "markdown",
      "metadata": {
        "id": "view-in-github",
        "colab_type": "text"
      },
      "source": [
        "<a href=\"https://colab.research.google.com/github/Elija-Daquiz/OOP-58002/blob/main/OOP_Concepts.ipynb\" target=\"_parent\"><img src=\"https://colab.research.google.com/assets/colab-badge.svg\" alt=\"Open In Colab\"/></a>"
      ]
    },
    {
      "cell_type": "code",
      "execution_count": 3,
      "metadata": {
        "colab": {
          "base_uri": "https://localhost:8080/"
        },
        "id": "A4lKkowe8IA6",
        "outputId": "8ac0c066-d1ec-41ed-81ab-4ad46a9a6241"
      },
      "outputs": [
        {
          "output_type": "execute_result",
          "data": {
            "text/plain": [
              "7"
            ]
          },
          "metadata": {},
          "execution_count": 3
        }
      ],
      "source": [
        "class foo:\n",
        "  def __init__(self, a, b):\n",
        "    self.a = a\n",
        "    self.b = b\n",
        "  def add(self):\n",
        "    return self.a + self.b\n",
        "foo_object = foo(3,4)\n",
        "foo_object.add()\n"
      ]
    },
    {
      "cell_type": "code",
      "source": [
        "class birds:\n",
        "  def __init__(self,name_birds):\n",
        "    self.name_birds = name_birds\n",
        "  def flying_birds(self):\n",
        "    print(f\"The {self.name_birds} is fthe flying bird above the sky\")\n",
        "  def non_flying_birds(self):\n",
        "    print(f\"The {self.name_birds} is the non flying birds\")\n",
        "\n",
        "eagle = birds(\"Eagle\")\n",
        "chicken = birds(\"Chicken\")\n",
        "eagle.flying_birds()\n",
        "chicken.non_flying_birds()"
      ],
      "metadata": {
        "colab": {
          "base_uri": "https://localhost:8080/"
        },
        "id": "5ichIZwR9jxC",
        "outputId": "cad936f3-4704-4592-c8ef-e99e0da4adc1"
      },
      "execution_count": 13,
      "outputs": [
        {
          "output_type": "stream",
          "name": "stdout",
          "text": [
            "The Eagle is fthe flying bird above the sky\n",
            "The Chicken is the non flying birds\n"
          ]
        }
      ]
    },
    {
      "cell_type": "code",
      "source": [
        "#Encapsulation\n",
        "class foo:\n",
        "  def __init__(self, a, b):\n",
        "    self.__a = a\n",
        "    self.__b = b\n",
        "  def add(self):\n",
        "    return self.__a + self.__b\n",
        "    \n",
        "foo_object = foo(3,4)\n",
        "foo_object.add()\n",
        "foo_object.a = 7\n",
        "foo_object.b = 6\n",
        "foo_object.add()"
      ],
      "metadata": {
        "colab": {
          "base_uri": "https://localhost:8080/"
        },
        "id": "-5BbIUKY_s9R",
        "outputId": "cbba24ca-3a98-4a88-9a02-5819f5193633"
      },
      "execution_count": 9,
      "outputs": [
        {
          "output_type": "execute_result",
          "data": {
            "text/plain": [
              "7"
            ]
          },
          "metadata": {},
          "execution_count": 9
        }
      ]
    },
    {
      "cell_type": "code",
      "source": [
        "#Inheritance\n",
        "class person:\n",
        "  def __init__(self, name, bdate):\n",
        "    self.name = name\n",
        "    self.bdate = bdate\n",
        "  def display(self):\n",
        "    print(\"My name is \", self.name)\n",
        "    print(\"My birthdate is \", self.bdate)\n",
        "  \n",
        "class student(person):\n",
        "  pass \n",
        "person = person(\"Marie\", \"Febuary 29, 2001\")\n",
        "person.display()\n",
        "\n",
        "student = student(\"Juana\", \"Febuary 30, 2000\")\n",
        "student.display()"
      ],
      "metadata": {
        "colab": {
          "base_uri": "https://localhost:8080/"
        },
        "id": "0RwAGtW9AyTf",
        "outputId": "dd8bfa25-9977-46d5-d88c-c25c0327f0c4"
      },
      "execution_count": 21,
      "outputs": [
        {
          "output_type": "stream",
          "name": "stdout",
          "text": [
            "My name is  Marie\n",
            "My birthdate is  Febuary 29, 2001\n",
            "My name is  Juana\n",
            "My birthdate is  Febuary 30, 2000\n"
          ]
        }
      ]
    },
    {
      "cell_type": "code",
      "source": [
        "# create a class shapes (5 shapes)\n",
        "# attributes side\n",
        "# create a function/method that displays the\n",
        "# number of sides of each shapes \n",
        "# apply inheritance and encapsulations\n",
        "\n",
        "class shapes:\n"
      ],
      "metadata": {
        "id": "ZToLUDEeEp7g"
      },
      "execution_count": null,
      "outputs": []
    },
    {
      "cell_type": "code",
      "source": [
        "class Shapes:\n",
        "    def __init__(self, side):\n",
        "        self.__side = side\n",
        "    \n",
        "    def get_side(self):\n",
        "        return self.__side\n",
        "    \n",
        "    def set_side(self, side):\n",
        "        self.__side = side\n",
        "    \n",
        "    def get_num_sides(self):\n",
        "        print(f\"The shape has {self.get_side()} sides.\")\n",
        "        \n",
        "        \n",
        "class Triangle(Shapes):\n",
        "    def __init__(self):\n",
        "        super().__init__(3)\n",
        "        \n",
        "        \n",
        "class Square(Shapes):\n",
        "    def __init__(self):\n",
        "        super().__init__(4)\n",
        "        \n",
        "        \n",
        "class Pentagon(Shapes):\n",
        "    def __init__(self):\n",
        "        super().__init__(5)\n",
        "        \n",
        "        \n",
        "class Hexagon(Shapes):\n",
        "    def __init__(self):\n",
        "        super().__init__(6)\n",
        "        \n",
        "        \n",
        "class Octagon(Shapes):\n",
        "    def __init__(self):\n",
        "        super().__init__(8)\n",
        "\n",
        "triangle = Triangle()\n",
        "triangle.get_num_sides()\n",
        "\n",
        "square = Square()\n",
        "square.get_num_sides()\n",
        "\n",
        "pentagon = Pentagon()\n",
        "pentagon.get_num_sides()\n",
        "\n",
        "hexagon = Hexagon()\n",
        "hexagon.get_num_sides()\n",
        "\n",
        "octagon = Octagon()\n",
        "octagon.get_num_sides()"
      ],
      "metadata": {
        "colab": {
          "base_uri": "https://localhost:8080/"
        },
        "id": "zc8GNvCaKZZr",
        "outputId": "67307171-291e-41f2-cbe2-0a0a6ceea483"
      },
      "execution_count": 28,
      "outputs": [
        {
          "output_type": "stream",
          "name": "stdout",
          "text": [
            "The shape has 3 sides.\n",
            "The shape has 4 sides.\n",
            "The shape has 5 sides.\n",
            "The shape has 6 sides.\n",
            "The shape has 8 sides.\n"
          ]
        }
      ]
    }
  ]
}